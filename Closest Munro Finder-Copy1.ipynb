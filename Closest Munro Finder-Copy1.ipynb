{
 "cells": [
  {
   "cell_type": "code",
   "execution_count": 3,
   "metadata": {},
   "outputs": [],
   "source": [
    "import pandas as pd\n",
    "import os\n",
    "import json\n",
    "import requests\n",
    "from requests.exceptions import HTTPError\n",
    "import string\n",
    "from openpyxl import Workbook, load_workbook\n",
    "from openpyxl.styles import Border, Side, Alignment\n",
    "import datetime"
   ]
  },
  {
   "cell_type": "code",
   "execution_count": 4,
   "metadata": {},
   "outputs": [],
   "source": [
    "bing_api = 'faH508nRtpsVD8fCgCOW~SsJkpEbrco_1bczRXqM7DA~An4FqYPOZIi6hB06WY5zMV63FKh8GI2EZF5N4CwkRhVt5lk8-fJaDPDo_12EmoQ7'"
   ]
  },
  {
   "cell_type": "code",
   "execution_count": 12,
   "metadata": {},
   "outputs": [],
   "source": [
    "def get_base_panda():\n",
    "    df = pd.read_excel('Mountain Data.xlsx', index_col=[0])\n",
    "    df['Region'] = df['Region'].astype('category')\n",
    "    return df"
   ]
  },
  {
   "cell_type": "code",
   "execution_count": 13,
   "metadata": {
    "scrolled": true
   },
   "outputs": [],
   "source": [
    "class Household:\n",
    "    \"\"\"Instances will contain location & travel data pertaining to \n",
    "    instantiating location\"\"\"\n",
    "    \n",
    "    munro_panda = get_base_panda()\n",
    "    bing_api = 'faH508nRtpsVD8fCgCOW~SsJkpEbrco_1bczRXqM7DA~An4FqYPOZIi6hB06WY5zMV63FKh8GI2EZF5N4CwkRhVt5lk8-fJaDPDo_12EmoQ7'\n",
    "    \n",
    "    def __init__(self, postcode, name):\n",
    "        self.postcode = postcode.replace(' ', '').lower()\n",
    "        self.name = name.capitalize()\n",
    "        self.house_panda = Household.munro_panda.copy()\n",
    "        self.set_house_panda()\n",
    " \n",
    "    def set_house_panda(self):\n",
    "        \"\"\"Grows individual dataframe containing relevant data from the class base frame\"\"\"\n",
    "        \n",
    "        for index in self.house_panda.index:\n",
    "            distance, time = self.get_travel(self.house_panda.loc[index, 'Latitude & Longitude'])\n",
    "            self.house_panda.loc[index, 'Distance (mi)'], self.house_panda.loc[index, 'Travel Time (hr)'] = distance, time\n",
    "            \n",
    "        del self.house_panda['Latitude & Longitude']\n",
    "        \n",
    "        self.arrange_panda()\n",
    "    \n",
    "    def get_travel(self, lat):\n",
    "        \"\"\"Finds travel information for each munro\"\"\"\n",
    "        try:\n",
    "            response = requests.get(f'http://dev.virtualearth.net/REST/V1/Routes?wp.0={self.postcode}&wp.1={lat}&key={bing_api}')\n",
    "            response.raise_for_status()\n",
    "        except HTTPError as http_err:\n",
    "            print(f'HTTP error occurred: {http_err}')\n",
    "            response = requests.get(f'http://dev.virtualearth.net/REST/V1/Routes?wp.0={self.postcode}&wp.1={lat}&key={bing_api}')\n",
    "            response.raise_for_status()       \n",
    "        else:       \n",
    "            data = response.json()['resourceSets'][0]['resources'][0]\n",
    "            distance = round(data['travelDistance'] * 0.62137, 2)\n",
    "            time = round(data['travelDurationTraffic'] /60**2, 2)\n",
    "            \n",
    "        return distance, time\n",
    "    \n",
    "    def arrange_panda(self):\n",
    "        \"\"\"Sorts results and assigns travel index\"\"\"\n",
    "        self.house_panda['Travel Index'] = self.house_panda['Travel Time (hr)'].rank(ascending=True)\n",
    "        self.house_panda.sort_index(inplace=True)\n",
    "    "
   ]
  },
  {
   "cell_type": "code",
   "execution_count": 14,
   "metadata": {},
   "outputs": [],
   "source": [
    "class ClosestMunros:\n",
    "    \"\"\"Instances will evaluate and compare travel data for each household instance\"\"\"\n",
    "    \n",
    "    base_super_panda = Household.munro_panda[['Mountain', 'Region', 'Altitude (m)']].copy()\n",
    "    bindex = pd.MultiIndex.from_product([['General'], base_super_panda.columns])\n",
    "    base_super_panda.columns = bindex\n",
    "    \n",
    "    def __init__(self, *households):\n",
    "        self.households = households\n",
    "        \n",
    "        if len(households) > 1:\n",
    "            self.plural = True\n",
    "        else:\n",
    "            self.plural = False   \n",
    "    \n",
    "        self.drive_time_panda = self.get_panda('Travel Time (hr)')\n",
    "        self.distance_panda = self.get_panda('Distance (mi)')\n",
    "        self.index_panda = self.get_panda('Travel Index')\n",
    "       \n",
    "    def get_panda(self, column):\n",
    "        \"\"\"Handler for dataframe methods\"\"\"\n",
    "        df = self.base_super_panda.copy()        \n",
    "        if self.plural:\n",
    "            if column == 'Travel Index':\n",
    "                df = self.get_summary('Travel Index', df)\n",
    "                df.insert(3, ('General', 'Total Travel Index'), \n",
    "                          df.xs(key='Travel Index', axis=1, level=1).sum(axis=1))\n",
    "                df.sort_values(by=[('General', 'Travel Index Std Dev'), \n",
    "                                   ('General', 'Total Travel Index')], inplace=True)\n",
    "                return df\n",
    "            return self.get_summary(column, df) \n",
    "        else:\n",
    "            return self.get_unit_data(column, df)        \n",
    "                \n",
    "    def get_summary(self, column, dataf):\n",
    "        \"\"\"Creates comparison data\"\"\"\n",
    "        self.enter_house(dataf)\n",
    "        dataf.insert(3, ('General', f'{column} Std Dev'), \n",
    "                     dataf.xs(key=column, axis=1, level=1).std(axis=1, ddof=0)),
    "        dataf.insert(4, ('General', 'Total Travel Time'), \n",
    "                     dataf.xs(key='Travel Time (hr)', axis=1, level=1).sum(axis=1))\n",
    "        dataf.sort_values(by=[('General', f'{column} Std Dev'), \n",
    "                              ('General', 'Total Travel Time')], inplace=True)\n",
    "        \n",
    "        return dataf.round(3) \n",
    "\n",
    "    def enter_house(self, dataf):\n",
    "        \"\"\"Populates dataframe with basic household data\"\"\"\n",
    "        for household in self.households:\n",
    "            dataf[household.name, 'Travel Index'] = household.house_panda['Travel Index']\n",
    "            dataf[household.name, 'Distance (mi)'] = household.house_panda['Distance (mi)']\n",
    "            dataf[household.name, 'Travel Time (hr)'] = household.house_panda['Travel Time (hr)'] \n",
    "\n",
    "    def get_unit_data(self, column, dataf):\n",
    "        \"\"\"Used when there is only one user, no comparison data required\"\"\"\n",
    "        self.enter_house(dataf)     \n",
    "        dataf.sort_values(by=[(self.households[0].name, column)], inplace=True)\n",
    "        \n",
    "    def return_filename(self):\n",
    "        date = '-'.join(datetime.date.today().__str__().split('-')[::-1])\n",
    "        names = f\"{' '.join([household.name for household in self.households])}.xlsx\"\n",
    "        return date + ' ' + names           "
   ]
  },
  {
   "cell_type": "code",
   "execution_count": 15,
   "metadata": {},
   "outputs": [],
   "source": [
    "class MunroExcel:\n",
    "    \"\"\"Handler to write data to spreadsheet\"\"\"\n",
    "    def __init__(self, closest_object):\n",
    "        self.file_name = closest_object.return_filename()\n",
    "        self.drive_time_panda = closest_object.drive_time_panda\n",
    "        self.index_panda = closest_object.index_panda\n",
    "        self.distance_panda = closest_object.distance_panda\n",
    "        \n",
    "    def write_excel(self): \n",
    "        \"\"\"Writes each of the 3 dataframes to an excel sheet inside one workbook\"\"\"\n",
    "        with pd.ExcelWriter(self.file_name) as writer:\n",
    "            self.drive_time_panda.to_excel(writer, sheet_name='Drive Time')\n",
    "            self.index_panda.to_excel(writer, sheet_name='Index')\n",
    "            self.distance_panda.to_excel(writer, sheet_name='Distance')\n",
    "            \n",
    "        self.format_excel(self.file_name) # Add the date to this file name\n",
    "        os.startfile(self.file_name)\n",
    "        \n",
    "    def format_excel(self, file):\n",
    "        \"\"\"Tidies up the exported file\"\"\"\n",
    "        wb = load_workbook(self.file_name)\n",
    "        drive, dist, indx = wb['Drive Time'], wb['Distance'], wb['Index']\n",
    "        sheets = [drive, dist, indx]\n",
    "        \n",
    "        for sheet in sheets:\n",
    "            sheet.delete_rows(idx=3, amount=1)\n",
    "            self.set_borders(sheet)\n",
    "        \n",
    "        wb.save(self.file_name)\n",
    "        wb.close()\n",
    "        \n",
    "    def set_borders(self, ws):\n",
    "        cell_ranges = ws.merged_cells\n",
    "        for scope in cell_ranges:\n",
    "            for column in ws.iter_cols(min_col=scope.min_col, max_col=scope.max_col,\n",
    "                                       min_row=scope.min_row, max_row=scope.max_row+1):\n",
    "                if column[0].column == scope.min_col:\n",
    "                    column[0].border = Border(left=Side(style='thick'))\n",
    "                    column[1].border = Border(left=Side(style='thick'), bottom=Side(style='thick'),\n",
    "                                             top=Side(style='thin'))\n",
    "                    for row in ws.iter_rows(min_row=column[1].row+1, min_col=column[1].column,\n",
    "                                            max_col=column[1].column):\n",
    "                        for cell in row:\n",
    "                            cell.border = Border(left=Side(style='thick'))\n",
    "\n",
    "                elif column[0].column == scope.max_col:\n",
    "                    column[0].border = Border(right=Side(style='thick'))\n",
    "                    column[1].border = Border(right=Side(style='thick'), bottom=Side(style='thick'),\n",
    "                                             top=Side(style='thin'))\n",
    "\n",
    "                    for row in ws.iter_rows(min_row=column[1].row+1, min_col=column[1].column,\n",
    "                                            max_col=column[1].column):\n",
    "                        for cell in row:\n",
    "                            cell.border = Border(right=Side(style='thick'))\n",
    "\n",
    "                else:\n",
    "                    column[1].border = Border(bottom=Side(style='thick'), top=Side(style='thin'))\n",
    "                    \n",
    "                column[1].alignment = Alignment(horizontal='center', vertical='center',\n",
    "                                       wrapText=True)"
   ]
  },
  {
   "cell_type": "code",
   "execution_count": 16,
   "metadata": {},
   "outputs": [],
   "source": [
    "pp1 = Household('[enter postcode]', '[enter name]')"
   ]
  },
  {
   "cell_type": "code",
   "execution_count": 17,
   "metadata": {},
   "outputs": [],
   "source": [
    "pp2 = Household('[enter postcode]', '[enter name]')"
   ]
  },
  {
   "cell_type": "code",
   "execution_count": 20,
   "metadata": {},
   "outputs": [],
   "source": [
    "pp3 = Household('[enter postcode]', '[enter name]')"
   ]
  },
  {
   "cell_type": "code",
   "execution_count": 16,
   "metadata": {},
   "outputs": [],
   "source": [
    "pp4 = Household('[enter postcode]', '[enter name]')"
   ]
  },
  {
   "cell_type": "code",
   "execution_count": 1,
   "metadata": {},
   "outputs": [
    {
     "ename": "NameError",
     "evalue": "name 'ClosestMunros' is not defined",
     "output_type": "error",
     "traceback": [
      "\u001b[1;31m---------------------------------------------------------------------------\u001b[0m",
      "\u001b[1;31mNameError\u001b[0m                                 Traceback (most recent call last)",
      "\u001b[1;32m<ipython-input-1-ff3c3f1d6efd>\u001b[0m in \u001b[0;36m<module>\u001b[1;34m\u001b[0m\n\u001b[1;32m----> 1\u001b[1;33m \u001b[0mcm\u001b[0m \u001b[1;33m=\u001b[0m \u001b[0mClosestMunros\u001b[0m\u001b[1;33m(\u001b[0m\u001b[0mpp1\u001b[0m\u001b[1;33m,\u001b[0m \u001b[0mpp2\u001b[0m\u001b[1;33m,\u001b[0m \u001b[0mpp3\u001b[0m\u001b[1;33m,\u001b[0m \u001b[0mpp4\u001b[0m\u001b[1;33m)\u001b[0m \u001b[1;31m# find most equidistant between any number of households\u001b[0m\u001b[1;33m\u001b[0m\u001b[1;33m\u001b[0m\u001b[0m\n\u001b[0m",
      "\u001b[1;31mNameError\u001b[0m: name 'ClosestMunros' is not defined"
     ]
    }
   ],
   "source": [
    "cm = ClosestMunros(pp1, pp2, pp3, pp4) # find most equidistant between any number of households"
   ]
  },
  {
   "cell_type": "code",
   "execution_count": 26,
   "metadata": {},
   "outputs": [],
   "source": [
    "emunro = MunroExcel(cm)\n",
    "emunro.write_excel()"
   ]
  }
 ],
 "metadata": {
  "kernelspec": {
   "display_name": "Python 3",
   "language": "python",
   "name": "python3"
  },
  "language_info": {
   "codemirror_mode": {
    "name": "ipython",
    "version": 3
   },
   "file_extension": ".py",
   "mimetype": "text/x-python",
   "name": "python",
   "nbconvert_exporter": "python",
   "pygments_lexer": "ipython3",
   "version": "3.7.4"
  }
 },
 "nbformat": 4,
 "nbformat_minor": 2
}
